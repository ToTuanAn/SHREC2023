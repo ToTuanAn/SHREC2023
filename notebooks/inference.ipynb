{
 "cells": [
  {
   "cell_type": "code",
   "execution_count": 1,
   "metadata": {
    "collapsed": true
   },
   "outputs": [],
   "source": [
    "WORKDIR = \"/home/totuanan/Workplace/SHREC2023/SHREC2023\""
   ]
  },
  {
   "cell_type": "code",
   "execution_count": 15,
   "metadata": {
    "collapsed": false
   },
   "outputs": [
    {
     "name": "stdout",
     "output_type": "stream",
     "text": [
      "/home/totuanan/Workplace/SHREC2023/SHREC2023\n",
      "Processing /home/totuanan/Workplace/SHREC2023/SHREC2023\n",
      "  Preparing metadata (setup.py) ... \u001b[?25ldone\n",
      "\u001b[?25hBuilding wheels for collected packages: shrec2023\n",
      "  Building wheel for shrec2023 (setup.py) ... \u001b[?25ldone\n",
      "\u001b[?25h  Created wheel for shrec2023: filename=shrec2023-0.0.1-py3-none-any.whl size=24134 sha256=bfdbbe2eca8083a908428b7c1bb965f3b3b214f1b05ecfe7680a900a9928b001\n",
      "  Stored in directory: /tmp/pip-ephem-wheel-cache-aisax4f5/wheels/f5/1f/57/47ee352a6c80510cf3ee381584bdb9085248a82c4f0a7b0649\n",
      "Successfully built shrec2023\n",
      "Installing collected packages: shrec2023\n",
      "  Attempting uninstall: shrec2023\n",
      "    Found existing installation: shrec2023 0.0.1\n",
      "    Uninstalling shrec2023-0.0.1:\n",
      "      Successfully uninstalled shrec2023-0.0.1\n",
      "Successfully installed shrec2023-0.0.1\n"
     ]
    }
   ],
   "source": [
    "%cd $WORKDIR\n",
    "!pip install ."
   ]
  },
  {
   "cell_type": "code",
   "execution_count": 16,
   "metadata": {
    "collapsed": false
   },
   "outputs": [
    {
     "name": "stdout",
     "output_type": "stream",
     "text": [
      "/home/totuanan/Workplace/SHREC2023/SHREC2023\n",
      "/home/totuanan/anaconda3/envs/cvpr_ntl/lib/python3.9/site-packages/torchvision/io/image.py:13: UserWarning: Failed to load image Python extension: libc10_cuda.so: cannot open shared object file: No such file or directory\n",
      "  warn(f\"Failed to load image Python extension: {e}\")\n",
      "Overriding configurating\n",
      "Global seed set to 1337\n",
      "Some weights of the model checkpoint at bert-base-uncased were not used when initializing BertModel: ['cls.predictions.transform.LayerNorm.weight', 'cls.seq_relationship.weight', 'cls.predictions.transform.dense.bias', 'cls.predictions.decoder.weight', 'cls.seq_relationship.bias', 'cls.predictions.bias', 'cls.predictions.transform.LayerNorm.bias', 'cls.predictions.transform.dense.weight']\n",
      "- This IS expected if you are initializing BertModel from the checkpoint of a model trained on another task or with another architecture (e.g. initializing a BertForSequenceClassification model from a BertForPreTraining model).\n",
      "- This IS NOT expected if you are initializing BertModel from the checkpoint of a model that you expect to be exactly identical (initializing a BertForSequenceClassification model from a BertForSequenceClassification model).\n",
      "Some weights of the model checkpoint at bert-base-uncased were not used when initializing BertModel: ['cls.predictions.transform.LayerNorm.weight', 'cls.seq_relationship.weight', 'cls.predictions.transform.dense.bias', 'cls.predictions.decoder.weight', 'cls.seq_relationship.bias', 'cls.predictions.bias', 'cls.predictions.transform.LayerNorm.bias', 'cls.predictions.transform.dense.weight']\n",
      "- This IS expected if you are initializing BertModel from the checkpoint of a model trained on another task or with another architecture (e.g. initializing a BertForSequenceClassification model from a BertForPreTraining model).\n",
      "- This IS NOT expected if you are initializing BertModel from the checkpoint of a model that you expect to be exactly identical (initializing a BertForSequenceClassification model from a BertForSequenceClassification model).\n",
      "- Evaluation started...\n",
      "- Extracting embeddings of queries...\n",
      "100%|█████████████████████████████████████████████| 4/4 [00:00<00:00,  9.55it/s]\n",
      "- Extracting embeddings of point_clouds...\n",
      "100%|███████████████████████████████████████████| 45/45 [00:14<00:00,  3.08it/s]\n",
      "- Calculating similarity...\n",
      "Save query results to  temps/query_results.json\n",
      "- Done calculate similarity...\n",
      "Saving result as csv file\n"
     ]
    }
   ],
   "source": [
    "%cd $WORKDIR\n",
    "!python src/inference_faiss.py -c local_configs/inference.yml"
   ]
  }
 ],
 "metadata": {
  "kernelspec": {
   "display_name": "Python 3",
   "language": "python",
   "name": "python3"
  },
  "language_info": {
   "codemirror_mode": {
    "name": "ipython",
    "version": 3
   },
   "file_extension": ".py",
   "mimetype": "text/x-python",
   "name": "python",
   "nbconvert_exporter": "python",
   "pygments_lexer": "ipython3",
   "version": "3.9.16"
  }
 },
 "nbformat": 4,
 "nbformat_minor": 0
}
